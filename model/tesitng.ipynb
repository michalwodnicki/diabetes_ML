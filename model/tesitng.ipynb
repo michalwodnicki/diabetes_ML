{
 "cells": [
  {
   "cell_type": "code",
   "execution_count": 2,
   "metadata": {},
   "outputs": [],
   "source": [
    "import pandas as pd\n",
    "import numpy as np\n",
    "from sklearn.preprocessing import StandardScaler\n",
    "from sklearn.model_selection import train_test_split\n",
    "from sklearn.linear_model import LogisticRegression\n",
    "from sklearn.model_selection import GridSearchCV\n",
    "from sklearn.metrics import accuracy_score, classification_report, brier_score_loss, mean_absolute_error\n",
    "from sklearn.linear_model import LogisticRegression\n",
    "from sklearn.ensemble import RandomForestClassifier\n",
    "from sklearn.model_selection import GridSearchCV\n",
    "from sklearn.ensemble import GradientBoostingClassifier\n",
    "from sklearn.tree import DecisionTreeClassifier\n",
    "from sklearn.ensemble import IsolationForest\n",
    "from sklearn.calibration import CalibratedClassifierCV\n",
    "from sklearn.calibration import calibration_curve\n",
    "\n",
    "\n",
    "from sklearn.metrics import f1_score\n",
    "import os\n",
    "import matplotlib.pyplot as plt\n",
    "#from sklearn.metrics import plot_roc_curve\n",
    "\n",
    "from pathlib import Path"
   ]
  },
  {
   "cell_type": "code",
   "execution_count": 3,
   "metadata": {},
   "outputs": [],
   "source": [
    "def get_clean_data():\n",
    "  parent = Path(__name__).parent.parent.parent\n",
    "  #filename = os.path.join(parent, \"data\", \"data.csv\")\n",
    "  data_path = '../data/data.csv'\n",
    "  data = pd.read_csv(data_path)\n",
    "\n",
    "  data['gender'] = data['gender'].map({ 'Male': 0, 'Female': 1})\n",
    "\n",
    "  smoker_converted=pd.get_dummies(data['smoking_history'],drop_first=True)\n",
    "  data=pd.concat([data,smoker_converted],axis=1)\n",
    "  data.drop('smoking_history',axis=1,inplace=True)\n",
    "\n",
    "  data['never'] = data.apply(lambda row: row['never'] + row['ever'], axis=1)\n",
    "  data.drop(['ever'], axis=1, inplace=True)\n",
    "\n",
    "  data = data.rename(columns={'not current': 'not_current'})\n",
    "  data[\"former\"] = data[\"not_current\"] + data[\"former\"]\n",
    "  data.drop(['not_current'], axis=1, inplace=True)\n",
    "\n",
    "  data = data.dropna()\n",
    "  \n",
    "  return data"
   ]
  },
  {
   "cell_type": "code",
   "execution_count": 14,
   "metadata": {},
   "outputs": [
    {
     "name": "stdout",
     "output_type": "stream",
     "text": [
      "79985\n",
      "79985\n"
     ]
    }
   ],
   "source": [
    "data = get_clean_data()\n",
    "\n",
    "X = data.drop(['diabetes'], axis=1)\n",
    "y = data['diabetes']\n",
    "scaler = StandardScaler()\n",
    "X = scaler.fit_transform(X)\n",
    "\n",
    "X_train_val, X_test, y_train_val, y_test = train_test_split(X, y, test_size=0.1, random_state=42, stratify=y)\n",
    "\n",
    "X_train, X_val, y_train, y_val = train_test_split(X_train_val, y_train_val, test_size=0.1111, random_state=42, stratify=y_train_val)\n",
    "print(len(X_train))\n",
    "print(len(y_train))\n"
   ]
  },
  {
   "cell_type": "code",
   "execution_count": 8,
   "metadata": {},
   "outputs": [],
   "source": [
    "def create_model(data): \n",
    "  X = data.drop(['diabetes'], axis=1)\n",
    "  y = data['diabetes']\n",
    "  \n",
    "  # scale the data\n",
    "  scaler = StandardScaler()\n",
    "  X = scaler.fit_transform(X)\n",
    "  \n",
    "  # split the data\n",
    "  X_train, X_test, y_train, y_test = train_test_split(X, y, test_size=0.20, random_state=420)\n",
    "  \n",
    "  # train the model\n",
    "\n",
    "  params = {\n",
    "    'n_estimators': 100,\n",
    "    'max_depth': 3,\n",
    "    'learning_rate': 0.1,\n",
    "    'random_state': 420\n",
    "  }\n",
    "\n",
    "  model = GradientBoostingClassifier(**params)\n",
    "  model.fit(X_train, y_train)\n",
    "  \n",
    "  \n",
    "  # test model\n",
    "\n",
    "  y_pred = model.predict(X_test)\n",
    "  \n",
    "  f1 = f1_score(y_test, y_pred)\n",
    "  print(\"F1 score:\", f1)\n",
    "\n",
    "  print(\"Accuracy of our model: \", accuracy_score(y_test, y_pred))\n",
    "  print(\"Classification report: \\n\", classification_report(y_test, y_pred))\n",
    "  \n",
    "  return model, scaler"
   ]
  },
  {
   "cell_type": "code",
   "execution_count": 65,
   "metadata": {},
   "outputs": [],
   "source": [
    "def create_model(data): \n",
    "  X = data.drop(['diabetes'], axis=1)\n",
    "  y = data['diabetes']\n",
    "  \n",
    "  # scale the data\n",
    "  scaler = StandardScaler()\n",
    "  X = scaler.fit_transform(X)\n",
    "  \n",
    "  # split the data\n",
    "  X_train_val, X_test, y_train_val, y_test = train_test_split(X, y, test_size=0.1, random_state=16, stratify=y)\n",
    "\n",
    "  X_train, X_val, y_train, y_val = train_test_split(X_train_val, y_train_val, test_size=0.1111, random_state=16, stratify=y_train_val)\n",
    "  \n",
    "  # train the model\n",
    "\n",
    "  params = {\n",
    "    'n_estimators': 100,\n",
    "    'max_depth': 3,\n",
    "    'learning_rate': 0.1,\n",
    "    'random_state': 420\n",
    "  }\n",
    "\n",
    "  gb_model = GradientBoostingClassifier(**params)\n",
    "  gb_model.fit(X_train, y_train)\n",
    "  \n",
    "  #####################################################################################################\n",
    "\n",
    "\n",
    "  y_pred = gb_model.predict(X_val)\n",
    "\n",
    "  acc = accuracy_score(y_val, y_pred)\n",
    "  bs = brier_score_loss(y_val, y_pred)\n",
    "  \n",
    "  print(f\"Validation Accuracy: {acc:.3f}\")\n",
    "  print(f\"Validation Brier Score: {bs:.3f}\")\n",
    "\n",
    "  #####################################################################################################\n",
    "\n",
    "  #y_probab = gb_model.predict_proba(X_test)[:, 1]\n",
    "\n",
    "# Get the true probabilities and the average predicted probabilities\n",
    "  #true_prob, pred_prob = calibration_curve(y_test, y_probab, n_bins=10)\n",
    "\n",
    "  # Plot the calibration curve\n",
    "  # fig, ax = plt.subplots()\n",
    "  # ax.plot([0, 1], [0, 1], linestyle='--')\n",
    "  # ax.plot(pred_prob, true_prob, marker='.')\n",
    "  # ax.set_xlabel('Predicted probability')\n",
    "  # ax.set_ylabel('True probability')\n",
    "  # ax.set_title('Calibration Curve')\n",
    "  # plt.show()\n",
    "\n",
    "  calibrated_model = CalibratedClassifierCV(gb_model, cv='prefit', method ='isotonic')\n",
    "  calibrated_model.fit(X_val, y_val)\n",
    "  \n",
    "  y_pred_calibrated = calibrated_model.predict(X_test)\n",
    "  acc_calibrated = accuracy_score(y_test, y_pred_calibrated)\n",
    "  bs_calibrated = brier_score_loss(y_test, y_pred_calibrated)\n",
    "\n",
    "  print(f\"Calibrated Test Accuracy: {acc_calibrated:.3f}\")\n",
    "  print(f\"Calibrated Test Brier: {bs_calibrated:.3f}\")\n",
    "  \n",
    "\n",
    "  #y_proba = calibrated_model.predict_proba(X_test)[:, 1]\n",
    "\n",
    "# Get the true probabilities and the average predicted probabilities\n",
    "  #true_prob, pred_prob = calibration_curve(y_test, y_proba, n_bins=10)\n",
    "\n",
    "  # Plot the calibration curve\n",
    "  # fig, ax = plt.subplots()\n",
    "  # ax.plot([0, 1], [0, 1], linestyle='--')\n",
    "  # ax.plot(pred_prob, true_prob, marker='.')\n",
    "  # ax.set_xlabel('Predicted probability')\n",
    "  # ax.set_ylabel('True probability')\n",
    "  # ax.set_title('Calibration Curve')\n",
    "  # plt.show()\n",
    "\n",
    "  #return calibrated_model\n",
    "\n",
    "  fig, ax = plt.subplots(1, 1, figsize=(6, 6))\n",
    "#\n",
    "  # Plot the uncalibrated model\n",
    "  prob_pos = gb_model.predict_proba(X_test)[:, 1]\n",
    "  fraction_of_positives, mean_predicted_value = calibration_curve(y_test, prob_pos, n_bins=10)\n",
    "  ax.plot(mean_predicted_value, fraction_of_positives, 's-', label='Uncalibrated')\n",
    "\n",
    "  bs_uncalibrated= mean_absolute_error(fraction_of_positives, mean_predicted_value)\n",
    "  print(bs_uncalibrated)\n",
    "\n",
    "  # Plot the calibrated model\n",
    "  prob_pos_calibrated = calibrated_model.predict_proba(X_test)[:, 1]\n",
    "  fraction_of_positives_calibrated, mean_predicted_value_calibrated = calibration_curve(y_test, prob_pos_calibrated, n_bins=10)\n",
    "  ax.plot(mean_predicted_value_calibrated, fraction_of_positives_calibrated, 's-', label='Calibrated')\n",
    "\n",
    "  bs_calibrated = mean_absolute_error(fraction_of_positives_calibrated, mean_predicted_value_calibrated)\n",
    "  print(bs_calibrated)\n",
    "\n",
    "  # Plot the reference line\n",
    "  ax.plot([0, 1], [0, 1], '--', color='gray', label='Reference')\n",
    "\n",
    "  # Set the axis labels and legend\n",
    "  ax.set_xlabel('Mean predicted value')\n",
    "  ax.set_ylabel('Fraction of positives')\n",
    "  ax.set_ylim([-0.05, 1.05])\n",
    "  ax.legend()\n",
    "\n",
    "  plt.show()\n",
    "\n",
    "  \n",
    "\n",
    "#, scaler"
   ]
  },
  {
   "cell_type": "code",
   "execution_count": 66,
   "metadata": {},
   "outputs": [
    {
     "name": "stdout",
     "output_type": "stream",
     "text": [
      "Validation Accuracy: 0.972\n",
      "Validation Brier Score: 0.028\n",
      "Calibrated Test Accuracy: 0.970\n",
      "Calibrated Test Brier: 0.030\n",
      "0.14026367246607718\n",
      "0.03502063489803152\n"
     ]
    },
    {
     "data": {
      "image/png": "[encoded data removed]",
      "text/plain": [
       "<Figure size 600x600 with 1 Axes>"
      ]
     },
     "metadata": {},
     "output_type": "display_data"
    }
   ],
   "source": [
    "create_model(data)"
   ]
  },
  {
   "cell_type": "code",
   "execution_count": 7,
   "metadata": {},
   "outputs": [],
   "source": [
    "def create_model_2(data): \n",
    "  X = data.drop(['diabetes'], axis=1)\n",
    "  y = data['diabetes']\n",
    "  \n",
    "  # scale the data\n",
    "  scaler = StandardScaler()\n",
    "  X = scaler.fit_transform(X)\n",
    "  \n",
    "  # split the data 80/10/10 train/validation/test\n",
    "  X_train_val, X_test, y_train_val, y_test = train_test_split(\n",
    "    X, y, test_size=0.1, random_state=16, stratify=y\n",
    "    )\n",
    "\n",
    "  X_train, X_val, y_train, y_val = train_test_split(\n",
    "    X_train_val, y_train_val, test_size=0.1111, random_state=16, stratify=y_train_val\n",
    "    )\n",
    "  \n",
    "  # train and fit the gbx model\n",
    "\n",
    "  params = {\n",
    "    'n_estimators': 100,\n",
    "    'max_depth': 3,\n",
    "    'learning_rate': 0.1,\n",
    "    'random_state': 420\n",
    "  }\n",
    "\n",
    "  clf = GradientBoostingClassifier(**params)\n",
    "  clf.fit(X_train, y_train)\n",
    "\n",
    "  # test the gbx model\n",
    "  y_pred = clf.predict(X_val)\n",
    "\n",
    "  acc = accuracy_score(y_val, y_pred)\n",
    "\n",
    "  prob_pos = clf.predict_proba(X_test)[:, 1]\n",
    "  fraction_of_positives, mean_predicted_value = calibration_curve(y_test, prob_pos, n_bins=10)\n",
    "  uncalibrated_mae = mean_absolute_error(fraction_of_positives, mean_predicted_value)\n",
    "\n",
    "  print(f\"Validation Accuracy: {acc:.3f}\")\n",
    "  print(f\"Validation Calibration Curve MAE: {uncalibrated_mae:.3f}\")\n",
    "\n",
    "  # train and fit calibration model\n",
    "\n",
    "  calibrated_model = CalibratedClassifierCV(clf, cv='prefit', method ='isotonic')\n",
    "  calibrated_model.fit(X_val, y_val)\n",
    "  \n",
    "  # test the calibration model\n",
    "  y_pred_calibrated = calibrated_model.predict(X_test)\n",
    "\n",
    "  acc_calibrated = accuracy_score(y_test, y_pred_calibrated)\n",
    "\n",
    "  prob_pos_calibrated = calibrated_model.predict_proba(X_test)[:, 1]\n",
    "  fraction_of_positives_calibrated, mean_predicted_value_calibrated = calibration_curve(y_test, prob_pos_calibrated, n_bins=10)\n",
    "  calibrated_mae = mean_absolute_error(fraction_of_positives_calibrated, mean_predicted_value_calibrated)\n",
    "\n",
    "  print(f\"Test Accuracy: {acc_calibrated:.3f}\")\n",
    "  print(f\"Test Calibration Curve MAE Score: {calibrated_mae:.3f}\")\n",
    "\n",
    "  return calibrated_model, scaler"
   ]
  },
  {
   "cell_type": "code",
   "execution_count": 8,
   "metadata": {},
   "outputs": [
    {
     "name": "stdout",
     "output_type": "stream",
     "text": [
      "Validation Accuracy: 0.972\n",
      "Validation Calibration Curve MAE: 0.140\n",
      "Test Accuracy: 0.970\n",
      "Test Calibration Curve MAE Score: 0.035\n"
     ]
    },
    {
     "data": {
      "text/plain": [
       "(CalibratedClassifierCV(cv='prefit',\n",
       "                        estimator=GradientBoostingClassifier(random_state=420),\n",
       "                        method='isotonic'),\n",
       " StandardScaler())"
      ]
     },
     "execution_count": 8,
     "metadata": {},
     "output_type": "execute_result"
    }
   ],
   "source": [
    "data = get_clean_data()\n",
    "create_model_2(data)"
   ]
  },
  {
   "cell_type": "code",
   "execution_count": null,
   "metadata": {},
   "outputs": [],
   "source": [
    "create_model(data)"
   ]
  },
  {
   "cell_type": "code",
   "execution_count": 13,
   "metadata": {},
   "outputs": [],
   "source": [
    "# Define the parameter grids for each model\n",
    "def mega_grid_search(data):\n",
    "\n",
    "    models=[]\n",
    "\n",
    "    X = data.drop(['diabetes'], axis=1)\n",
    "    y = data['diabetes']\n",
    "    \n",
    "    scaler = StandardScaler()\n",
    "    X = scaler.fit_transform(X)\n",
    "\n",
    "    lr_params = {\n",
    "        'penalty': ['l1', 'l2'], \n",
    "        'C': [0.1, 1, 10]\n",
    "    }\n",
    "\n",
    "    rf_params = {\n",
    "        'n_estimators': [50, 100, 150], \n",
    "        'max_depth': [3, 5, 7]\n",
    "    }\n",
    "\n",
    "    dt_params = {\n",
    "        'max_depth': [2, 4, 6],\n",
    "        'min_samples_split': [5, 10, 15],\n",
    "        'min_samples_leaf': [5, 10, 15]\n",
    "    }\n",
    "\n",
    "    gbc_params = {\n",
    "        #'n_estimators': [100], #50 100 150\n",
    "        #'learning_rate': [0.1], #0.2 0.3\n",
    "        #'max_depth': [3, 4, 5]\n",
    "    }\n",
    "\n",
    "    # Create a list of tuples containing the models and their respective parameter grids\n",
    "    models_and_params = [\n",
    "    (LogisticRegression(), lr_params), \n",
    "    (DecisionTreeClassifier(), dt_params),\n",
    "    (GradientBoostingClassifier(), gbc_params)\n",
    "    ]\n",
    "\n",
    "    #(RandomForestClassifier(), rf_params),\n",
    "                        \n",
    "    #models_and_params = [(GradientBoostingClassifier(), gbc_params)]\n",
    "\n",
    "    # Iterate over the models and parameter grids\n",
    "    for model, params in models_and_params:\n",
    "        # Create a GridSearchCV object with the current model and parameter grid\n",
    "        grid = GridSearchCV(model, params, cv=5, scoring='f1')\n",
    "        \n",
    "        # Fit the GridSearchCV object to the data\n",
    "        grid.fit(X, y)\n",
    "        \n",
    "        # Print the best parameters and score\n",
    "        print(f\"Best parameters for {type(model).__name__}: {grid.best_params_}\")\n",
    "        print(f\"Best {grid.scoring} score: {grid.best_score_:.4f}\")\n",
    "        best_params = grid.best_params_\n",
    "        model.set_params(**best_params)\n",
    "        models.append(model)\n",
    "\n",
    "    return models\n"
   ]
  },
  {
   "cell_type": "code",
   "execution_count": 14,
   "metadata": {},
   "outputs": [
    {
     "name": "stderr",
     "output_type": "stream",
     "text": [
      "/Users/michal/opt/anaconda3/envs/stat/lib/python3.9/site-packages/sklearn/model_selection/_validation.py:372: FitFailedWarning: \n",
      "15 fits failed out of a total of 30.\n",
      "The score on these train-test partitions for these parameters will be set to nan.\n",
      "If these failures are not expected, you can try to debug them by setting error_score='raise'.\n",
      "\n",
      "Below are more details about the failures:\n",
      "--------------------------------------------------------------------------------\n",
      "15 fits failed with the following error:\n",
      "Traceback (most recent call last):\n",
      "  File \"/Users/michal/opt/anaconda3/envs/stat/lib/python3.9/site-packages/sklearn/model_selection/_validation.py\", line 680, in _fit_and_score\n",
      "    estimator.fit(X_train, y_train, **fit_params)\n",
      "  File \"/Users/michal/opt/anaconda3/envs/stat/lib/python3.9/site-packages/sklearn/linear_model/_logistic.py\", line 1461, in fit\n",
      "    solver = _check_solver(self.solver, self.penalty, self.dual)\n",
      "  File \"/Users/michal/opt/anaconda3/envs/stat/lib/python3.9/site-packages/sklearn/linear_model/_logistic.py\", line 447, in _check_solver\n",
      "    raise ValueError(\n",
      "ValueError: Solver lbfgs supports only 'l2' or 'none' penalties, got l1 penalty.\n",
      "\n",
      "  warnings.warn(some_fits_failed_message, FitFailedWarning)\n",
      "/Users/michal/opt/anaconda3/envs/stat/lib/python3.9/site-packages/sklearn/model_selection/_search.py:969: UserWarning: One or more of the test scores are non-finite: [       nan 0.72923664        nan 0.72941842        nan 0.72940497]\n",
      "  warnings.warn(\n"
     ]
    },
    {
     "name": "stdout",
     "output_type": "stream",
     "text": [
      "Best parameters for LogisticRegression: {'C': 1, 'penalty': 'l2'}\n",
      "Best f1 score: 0.7294\n",
      "Best parameters for DecisionTreeClassifier: {'max_depth': 2, 'min_samples_leaf': 5, 'min_samples_split': 5}\n",
      "Best f1 score: 0.8016\n",
      "Best parameters for GradientBoostingClassifier: {}\n",
      "Best f1 score: 0.8060\n"
     ]
    }
   ],
   "source": [
    "grid = mega_grid_search(data)\n",
    "\n",
    "#https://lightgbm.readthedocs.io/en/latest/pythonapi/lightgbm.LGBMClassifier.html\n",
    "#https://medium.com/@aleemuddin13/how-to-host-static-website-on-firebase-hosting-for-free-9de8917bebf2 "
   ]
  },
  {
   "cell_type": "code",
   "execution_count": 31,
   "metadata": {},
   "outputs": [
    {
     "ename": "NameError",
     "evalue": "name 'grid' is not defined",
     "output_type": "error",
     "traceback": [
      "\u001b[0;31m---------------------------------------------------------------------------\u001b[0m",
      "\u001b[0;31mNameError\u001b[0m                                 Traceback (most recent call last)",
      "Cell \u001b[0;32mIn[31], line 13\u001b[0m\n\u001b[1;32m      8\u001b[0m X_train, X_test, y_train, y_test \u001b[39m=\u001b[39m train_test_split(\n\u001b[1;32m      9\u001b[0m     X, y, test_size\u001b[39m=\u001b[39m\u001b[39m0.20\u001b[39m, random_state\u001b[39m=\u001b[39m\u001b[39m420\u001b[39m\n\u001b[1;32m     10\u001b[0m   )\n\u001b[1;32m     12\u001b[0m fig, ax \u001b[39m=\u001b[39m plt\u001b[39m.\u001b[39msubplots(figsize\u001b[39m=\u001b[39m(\u001b[39m8\u001b[39m, \u001b[39m6\u001b[39m))\n\u001b[0;32m---> 13\u001b[0m \u001b[39mfor\u001b[39;00m model \u001b[39min\u001b[39;00m grid:\n\u001b[1;32m     14\u001b[0m     name \u001b[39m=\u001b[39m \u001b[39mstr\u001b[39m(model\u001b[39m.\u001b[39m\u001b[39m__class__\u001b[39m\u001b[39m.\u001b[39m\u001b[39m__name__\u001b[39m)\n\u001b[1;32m     15\u001b[0m     plot_roc_curve(model, X_test, y_test, name\u001b[39m=\u001b[39mname, ax\u001b[39m=\u001b[39max)\n",
      "\u001b[0;31mNameError\u001b[0m: name 'grid' is not defined"
     ]
    },
    {
     "data": {
      "image/png": "[encoded data removed]",
      "text/plain": [
       "<Figure size 800x600 with 1 Axes>"
      ]
     },
     "metadata": {},
     "output_type": "display_data"
    }
   ],
   "source": [
    "# assume 'grid' is the GridSearchCV object that you have fitted on your data\n",
    "X = data.drop(['diabetes'], axis=1)\n",
    "y = data['diabetes']\n",
    "  \n",
    "  # scale the data\n",
    "scaler = StandardScaler()\n",
    "X = scaler.fit_transform(X)\n",
    "X_train, X_test, y_train, y_test = train_test_split(\n",
    "    X, y, test_size=0.20, random_state=420\n",
    "  )\n",
    "\n",
    "fig, ax = plt.subplots(figsize=(8, 6))\n",
    "for model in grid:\n",
    "    name = str(model.__class__.__name__)\n",
    "    plot_roc_curve(model, X_test, y_test, name=name, ax=ax)\n",
    "\n",
    "ax.plot([0, 1], [0, 1], transform=ax.transAxes, ls='--', c='r')\n",
    "ax.set_xlim([0, 1])\n",
    "ax.set_ylim([0, 1])\n",
    "plt.title('ROC Curves for Iterated Models')\n",
    "plt.xlabel('False Positive Rate')\n",
    "plt.ylabel('True Positive Rate')\n",
    "plt.legend(loc='lower right')\n",
    "plt.show()"
   ]
  },
  {
   "cell_type": "code",
   "execution_count": 33,
   "metadata": {},
   "outputs": [
    {
     "data": {
      "image/png": "[encoded data removed]",
      "text/plain": [
       "<Figure size 640x480 with 1 Axes>"
      ]
     },
     "metadata": {},
     "output_type": "display_data"
    }
   ],
   "source": [
    "plt.hist(data[\"bmi\"], bins=20, color=\"skyblue\")\n",
    "plt.title(\"Distribution of My Column\")\n",
    "plt.xlabel(\"Value\")\n",
    "plt.ylabel(\"Frequency\")\n",
    "plt.show()"
   ]
  },
  {
   "cell_type": "code",
   "execution_count": 37,
   "metadata": {},
   "outputs": [
    {
     "data": {
      "text/plain": [
       "99982"
      ]
     },
     "execution_count": 37,
     "metadata": {},
     "output_type": "execute_result"
    }
   ],
   "source": [
    "len(data)"
   ]
  },
  {
   "cell_type": "code",
   "execution_count": 38,
   "metadata": {},
   "outputs": [
    {
     "name": "stderr",
     "output_type": "stream",
     "text": [
      "/Users/michal/Library/Caches/pypoetry/virtualenvs/diabetes-ml-jIUNA_Nw-py3.8/lib/python3.8/site-packages/sklearn/base.py:439: UserWarning: X does not have valid feature names, but IsolationForest was fitted with feature names\n",
      "  warnings.warn(\n"
     ]
    }
   ],
   "source": [
    "clf = IsolationForest(contamination=0.05, random_state=42)\n",
    "clf.fit(data)\n",
    "\n",
    "# Use the trained model to predict whether each sample is an outlier\n",
    "is_outlier = clf.predict(data)\n",
    "\n",
    "# Select only the non-outliers from the data\n",
    "X_clean = data[is_outlier == 1]"
   ]
  },
  {
   "cell_type": "code",
   "execution_count": 6,
   "metadata": {},
   "outputs": [
    {
     "data": {
      "text/plain": [
       "0    91482\n",
       "1     8500\n",
       "Name: diabetes, dtype: int64"
      ]
     },
     "execution_count": 6,
     "metadata": {},
     "output_type": "execute_result"
    }
   ],
   "source": [
    "data[\"diabetes\"].value_counts()"
   ]
  }
 ],
 "metadata": {
  "kernelspec": {
   "display_name": "stat",
   "language": "python",
   "name": "python3"
  },
  "language_info": {
   "codemirror_mode": {
    "name": "ipython",
    "version": 3
   },
   "file_extension": ".py",
   "mimetype": "text/x-python",
   "name": "python",
   "nbconvert_exporter": "python",
   "pygments_lexer": "ipython3",
   "version": "3.8.16"
  },
  "orig_nbformat": 4
 },
 "nbformat": 4,
 "nbformat_minor": 2
}
